{
 "cells": [
  {
   "cell_type": "markdown",
   "metadata": {},
   "source": [
    "# Practice Quiz: Dictionaries\n"
   ]
  },
  {
   "cell_type": "code",
   "execution_count": 1,
   "metadata": {},
   "outputs": [
    {
     "name": "stdout",
     "output_type": "stream",
     "text": [
      "Automating with Python is fun!\n"
     ]
    }
   ],
   "source": [
    "\"\"\"\n",
    "1.Question 1\n",
    "The email_list function receives a dictionary, which contains domain names as keys, \n",
    "and a list of users as values. Fill in the blanks to generate a list that contains complete \n",
    "email addresses (e.g. diana.prince@gmail.com).\n",
    "\"\"\"\n",
    "\n",
    "def email_list(domains):\n",
    "        emails = []\n",
    "        for names, users in domains.items():\n",
    "          for user in users:\n",
    "            emails.append(user+\"@\"+names)\n",
    "        return(emails)\n",
    "\n",
    "   \n",
    "\n",
    "print(email_list({\"gmail.com\": [\"clark.kent\", \"diana.prince\", \"peter.parker\"], \"yahoo.com\": [\"barbara.gordon\", \"jean.grey\"], \"hotmail.com\": [\"bruce.wayne\"]}))"
   ]
  },
  {
   "cell_type": "code",
   "execution_count": 2,
   "metadata": {},
   "outputs": [
    {
     "name": "stdout",
     "output_type": "stream",
     "text": [
      "Yellow is the color of sunshine\n"
     ]
    }
   ],
   "source": [
    "\"\"\"\n",
    "2.Question 2\n",
    "The groups_per_user function receives a dictionary, which contains group names \n",
    "with the list of users. Users can belong to multiple groups. \n",
    "Fill in the blanks to return a dictionary \n",
    "with the users as keys and a list of their groups as values.\n",
    "\"\"\"\n",
    "\n",
    "def groups_per_user(group_dictionary):\n",
    "    user_groups = {}\n",
    "    for group, users in group_dictionary.items():\n",
    "        for user in users:\n",
    "            if user not in user_groups:\n",
    "                user_groups[user] = []\n",
    "            user_groups[user].append(group)\n",
    "    return user_groups\n",
    "\n",
    "\n",
    "print(groups_per_user({\"local\": [\"admin\", \"userA\"],\n",
    "\t\t\"public\":  [\"admin\", \"userB\"],\n",
    "\t\t\"administrator\": [\"admin\"] }))"
   ]
  },
  {
   "cell_type": "code",
   "execution_count": 3,
   "metadata": {},
   "outputs": [
    {
     "name": "stdout",
     "output_type": "stream",
     "text": [
      "False\n",
      "True\n"
     ]
    }
   ],
   "source": []
  },
  {
   "cell_type": "code",
   "execution_count": 4,
   "metadata": {},
   "outputs": [
    {
     "name": "stdout",
     "output_type": "stream",
     "text": [
      "1 2 3 \n",
      "2 4 6 \n",
      "3 6 9 \n"
     ]
    }
   ],
   "source": []
  },
  {
   "cell_type": "code",
   "execution_count": null,
   "metadata": {},
   "outputs": [],
   "source": [
    
    "\"\"\"\n",
    "5.Question 5\n",
    "The add_prices function returns the total price of all of the groceries in the  dictionary.\n",
    "Fill in the blanks to complete this function.\n",
    "\"\"\"\n",
    "\n",
    
        
   "def add_prices(basket):\n",
	  "# Initialize the variable that will be used for the calculation.\n",
	   "total = 0\n",
	   "# Iterate through the dictionary items.\n",
	   "for price in basket.values():\n",
		  "# Add each price to the total calculation\n",
		  "# Hint: how do you access the values of\n",
		  "# dictionary items?\n",
		      "total += price\n",
	   "# Limit the return value to 2 decimal places\n",
	   "return round(total, 2)  \n",
    "\n",
    "\n",

    "groceries = {"bananas": 1.56, "apples": 2.50, "oranges": 0.99, "bread": 4.59, "coffee": 6.99, "milk": 3.39, "eggs": 2.98, "cheese": 5.44} \n",
    "print(add_prices(groceries)) # Should print 28.44"
   ]
  },
  {
   "cell_type": "code",
   "execution_count": null,
   "metadata": {},
   "outputs": [],
   "source": []
  },
  {
   "cell_type": "code",
   "execution_count": null,
   "metadata": {},
   "outputs": [],
   "source": []
  },
  {
   "cell_type": "code",
   "execution_count": null,
   "metadata": {},
   "outputs": [],
   "source": []
  }
 ],
 "metadata": {
  "kernelspec": {
   "display_name": "Python 3",
   "language": "python",
   "name": "python3"
  },
  "language_info": {
   "codemirror_mode": {
    "name": "ipython",
    "version": 3
   },
   "file_extension": ".py",
   "mimetype": "text/x-python",
   "name": "python",
   "nbconvert_exporter": "python",
   "pygments_lexer": "ipython3",
   "version": "3.6.5"
  }
 },
 "nbformat": 4,
 "nbformat_minor": 2
}
